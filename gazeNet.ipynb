{
 "cells": [
  {
   "cell_type": "markdown",
   "metadata": {},
   "source": [
    "## Load model"
   ]
  },
  {
   "cell_type": "code",
   "execution_count": 1,
   "metadata": {},
   "outputs": [
    {
     "name": "stderr",
     "output_type": "stream",
     "text": [
      "/usr/lib/python3/dist-packages/scipy/__init__.py:146: UserWarning: A NumPy version >=1.17.3 and <1.25.0 is required for this version of SciPy (detected version 1.26.0\n",
      "  warnings.warn(f\"A NumPy version >={np_minversion} and <{np_maxversion}\"\n"
     ]
    },
    {
     "name": "stdout",
     "output_type": "stream",
     "text": [
      "logdir/model_final/models/gazeNET_0004_00003750.pth.tar\n",
      "Loading model: logdir/model_final/models/gazeNET_0004_00003750.pth.tar\n",
      "done.\n"
     ]
    },
    {
     "data": {
      "text/plain": [
       "gazeNET(\n",
       "  (conv_stack): Sequential(\n",
       "    (conv1): Sequential(\n",
       "      (0): Conv2d(1, 8, kernel_size=(2, 11), stride=(1, 1), padding=(1, 5), bias=False)\n",
       "      (1): BatchNorm2d(8, eps=1e-05, momentum=0.1, affine=True, track_running_stats=True)\n",
       "      (2): Hardtanh(min_val=0, max_val=20, inplace=True)\n",
       "      (3): Dropout(p=0.25, inplace=False)\n",
       "    )\n",
       "    (conv2): Sequential(\n",
       "      (0): Conv2d(8, 8, kernel_size=(2, 11), stride=(1, 1), padding=(1, 5), bias=False)\n",
       "      (1): BatchNorm2d(8, eps=1e-05, momentum=0.1, affine=True, track_running_stats=True)\n",
       "      (2): Hardtanh(min_val=0, max_val=20, inplace=True)\n",
       "      (3): Dropout(p=0.25, inplace=False)\n",
       "    )\n",
       "  )\n",
       "  (rnn_stack): Sequential(\n",
       "    (gru1): BatchRNN(\n",
       "      (rnn): GRU(32, 64, bias=False, batch_first=True, bidirectional=True)\n",
       "      (batch_norm_op): SequenceWise (\n",
       "      BatchNorm1d(64, eps=1e-05, momentum=0.1, affine=True, track_running_stats=True))\n",
       "      (dropout_op): Dropout(p=0.25, inplace=False)\n",
       "    )\n",
       "    (gru2): BatchRNN(\n",
       "      (rnn): GRU(64, 64, bias=False, batch_first=True, bidirectional=True)\n",
       "      (batch_norm_op): SequenceWise (\n",
       "      BatchNorm1d(64, eps=1e-05, momentum=0.1, affine=True, track_running_stats=True))\n",
       "      (dropout_op): Dropout(p=0.25, inplace=False)\n",
       "    )\n",
       "    (gru3): BatchRNN(\n",
       "      (rnn): GRU(64, 64, bias=False, batch_first=True, bidirectional=True)\n",
       "      (batch_norm_op): SequenceWise (\n",
       "      BatchNorm1d(64, eps=1e-05, momentum=0.1, affine=True, track_running_stats=True))\n",
       "      (dropout_op): Dropout(p=0.25, inplace=False)\n",
       "    )\n",
       "  )\n",
       "  (fc): Sequential(\n",
       "    (0): SequenceWise (\n",
       "    Linear(in_features=64, out_features=3, bias=False))\n",
       "  )\n",
       ")"
      ]
     },
     "execution_count": 1,
     "metadata": {},
     "output_type": "execute_result"
    }
   ],
   "source": [
    "import os\n",
    "from utils_lib import utils\n",
    "from utils_lib.etdata import ETData\n",
    "from model import gazeNET as gazeNET\n",
    "import model as model_func\n",
    "\n",
    "logdir = os.path.join('logdir', 'model_final')\n",
    "fname_config = os.path.join(logdir, 'config.json')\n",
    "configuration = utils.Config(fname_config)\n",
    "config = configuration.params\n",
    "\n",
    "model_name = '%s.pth.tar' % 'gazeNET_0004_00003750'\n",
    "\n",
    "num_classes = len(config['events'])\n",
    "model = gazeNET(config, num_classes)\n",
    "model_func.load(model, 'model_final', config, model_name)\n",
    "model.eval()\n"
   ]
  },
  {
   "cell_type": "markdown",
   "metadata": {},
   "source": [
    "## Load data"
   ]
  },
  {
   "cell_type": "code",
   "execution_count": 2,
   "metadata": {},
   "outputs": [],
   "source": [
    "import numpy as np\n",
    "from utils_lib.data_loader import EMDataset, GazeDataLoader\n",
    "from utils_lib.etdata import get_px2deg\n",
    "\n",
    "fpath = 'etdata/tobii/Kreuze_Random Recording1_short.npy'\n",
    "# fpath = 'etdata/lund2013_npy/TH34_img_Europe_labelled_MN.npy'\n",
    "\n",
    "fdir, fname = os.path.split(os.path.splitext(fpath)[0])\n",
    "\n",
    "# # load geometry\n",
    "# geom = {\n",
    "#     'screen_width': 16,\n",
    "#     'screen_height': 9,\n",
    "#     'display_width_pix': 1920,\n",
    "#     'display_height_pix': 1080,\n",
    "#     'eye_distance': 60,\n",
    "# }\n",
    "\n",
    "# load trial data\n",
    "X_test = np.load(fpath)\n",
    "\n",
    "_status = np.isnan(X_test['x']) | \\\n",
    "    np.isnan(X_test['y']) | \\\n",
    "    ~np.in1d(X_test['evt'], config['events'])\n",
    "X_test['status'] = ~_status\n",
    "test_dataset = EMDataset(config=config, gaze_data=[X_test])\n",
    "n_samples = len(test_dataset)\n",
    "\n"
   ]
  },
  {
   "cell_type": "code",
   "execution_count": 3,
   "metadata": {},
   "outputs": [
    {
     "ename": "AttributeError",
     "evalue": "'gazeNET' object has no attribute 'no_grad'",
     "output_type": "error",
     "traceback": [
      "\u001b[0;31m---------------------------------------------------------------------------\u001b[0m",
      "\u001b[0;31mAttributeError\u001b[0m                            Traceback (most recent call last)",
      "\u001b[1;32m/home/lorenz/gazeNet/gazeNet.ipynb Cell 5\u001b[0m line \u001b[0;36m1\n\u001b[1;32m      <a href='vscode-notebook-cell://wsl%2Bubuntu/home/lorenz/gazeNet/gazeNet.ipynb#W4sdnNjb2RlLXJlbW90ZQ%3D%3D?line=4'>5</a>\u001b[0m kwargs \u001b[39m=\u001b[39m {\n\u001b[1;32m      <a href='vscode-notebook-cell://wsl%2Bubuntu/home/lorenz/gazeNet/gazeNet.ipynb#W4sdnNjb2RlLXJlbW90ZQ%3D%3D?line=5'>6</a>\u001b[0m     \u001b[39m'\u001b[39m\u001b[39mcuda\u001b[39m\u001b[39m'\u001b[39m: \u001b[39mFalse\u001b[39;00m,\n\u001b[1;32m      <a href='vscode-notebook-cell://wsl%2Bubuntu/home/lorenz/gazeNet/gazeNet.ipynb#W4sdnNjb2RlLXJlbW90ZQ%3D%3D?line=6'>7</a>\u001b[0m     \u001b[39m'\u001b[39m\u001b[39muse_tqdm\u001b[39m\u001b[39m'\u001b[39m: \u001b[39mFalse\u001b[39;00m,\n\u001b[1;32m      <a href='vscode-notebook-cell://wsl%2Bubuntu/home/lorenz/gazeNet/gazeNet.ipynb#W4sdnNjb2RlLXJlbW90ZQ%3D%3D?line=7'>8</a>\u001b[0m     \u001b[39m'\u001b[39m\u001b[39meval\u001b[39m\u001b[39m'\u001b[39m: \u001b[39mFalse\u001b[39;00m,\n\u001b[1;32m      <a href='vscode-notebook-cell://wsl%2Bubuntu/home/lorenz/gazeNet/gazeNet.ipynb#W4sdnNjb2RlLXJlbW90ZQ%3D%3D?line=8'>9</a>\u001b[0m }\n\u001b[1;32m     <a href='vscode-notebook-cell://wsl%2Bubuntu/home/lorenz/gazeNet/gazeNet.ipynb#W4sdnNjb2RlLXJlbW90ZQ%3D%3D?line=10'>11</a>\u001b[0m \u001b[39m# load test and run inference\u001b[39;00m\n\u001b[0;32m---> <a href='vscode-notebook-cell://wsl%2Bubuntu/home/lorenz/gazeNet/gazeNet.ipynb#W4sdnNjb2RlLXJlbW90ZQ%3D%3D?line=11'>12</a>\u001b[0m \u001b[39mwith\u001b[39;00m model\u001b[39m.\u001b[39;49mno_grad():\n\u001b[1;32m     <a href='vscode-notebook-cell://wsl%2Bubuntu/home/lorenz/gazeNet/gazeNet.ipynb#W4sdnNjb2RlLXJlbW90ZQ%3D%3D?line=12'>13</a>\u001b[0m     test_loader \u001b[39m=\u001b[39m GazeDataLoader(\n\u001b[1;32m     <a href='vscode-notebook-cell://wsl%2Bubuntu/home/lorenz/gazeNet/gazeNet.ipynb#W4sdnNjb2RlLXJlbW90ZQ%3D%3D?line=13'>14</a>\u001b[0m         test_dataset, batch_size\u001b[39m=\u001b[39mconfig[\u001b[39m'\u001b[39m\u001b[39mbatch_size\u001b[39m\u001b[39m'\u001b[39m], num_workers\u001b[39m=\u001b[39m\u001b[39m0\u001b[39m, shuffle\u001b[39m=\u001b[39m\u001b[39mFalse\u001b[39;00m)\n\u001b[1;32m     <a href='vscode-notebook-cell://wsl%2Bubuntu/home/lorenz/gazeNet/gazeNet.ipynb#W4sdnNjb2RlLXJlbW90ZQ%3D%3D?line=14'>15</a>\u001b[0m     _gt, _pr, pr_raw \u001b[39m=\u001b[39m run_infer(model, n_samples, test_loader, \u001b[39m*\u001b[39m\u001b[39m*\u001b[39mkwargs)\n",
      "File \u001b[0;32m~/.local/lib/python3.10/site-packages/torch/nn/modules/module.py:1695\u001b[0m, in \u001b[0;36mModule.__getattr__\u001b[0;34m(self, name)\u001b[0m\n\u001b[1;32m   1693\u001b[0m     \u001b[39mif\u001b[39;00m name \u001b[39min\u001b[39;00m modules:\n\u001b[1;32m   1694\u001b[0m         \u001b[39mreturn\u001b[39;00m modules[name]\n\u001b[0;32m-> 1695\u001b[0m \u001b[39mraise\u001b[39;00m \u001b[39mAttributeError\u001b[39;00m(\u001b[39mf\u001b[39m\u001b[39m\"\u001b[39m\u001b[39m'\u001b[39m\u001b[39m{\u001b[39;00m\u001b[39mtype\u001b[39m(\u001b[39mself\u001b[39m)\u001b[39m.\u001b[39m\u001b[39m__name__\u001b[39m\u001b[39m}\u001b[39;00m\u001b[39m'\u001b[39m\u001b[39m object has no attribute \u001b[39m\u001b[39m'\u001b[39m\u001b[39m{\u001b[39;00mname\u001b[39m}\u001b[39;00m\u001b[39m'\u001b[39m\u001b[39m\"\u001b[39m)\n",
      "\u001b[0;31mAttributeError\u001b[0m: 'gazeNET' object has no attribute 'no_grad'"
     ]
    }
   ],
   "source": [
    "from utils_lib.ETeval import run_infer\n",
    "import copy\n",
    "import pandas as pd\n",
    "\n",
    "kwargs = {\n",
    "    'cuda': False,\n",
    "    'use_tqdm': False,\n",
    "    'eval': False,\n",
    "}\n",
    "\n",
    "# load test and run inference\n",
    "test_loader = GazeDataLoader(\n",
    "    test_dataset, batch_size=config['batch_size'], num_workers=0, shuffle=False)\n",
    "_gt, _pr, pr_raw = run_infer(model, n_samples, test_loader, **kwargs)\n",
    "\n",
    "\n",
    "#glue back the predictions\n",
    "_data_pr = copy.deepcopy(test_dataset.data)\n",
    "for _d, _pred in zip(_data_pr, pr_raw):\n",
    "    _d['evt'] = 0\n",
    "    _d['evt'][1:] = np.argmax(_pred, axis=1)+1\n",
    "_data_pr = pd.concat([pd.DataFrame(_d) for _d in _data_pr]).reset_index(drop=True)\n",
    "_data = pd.DataFrame(X_test)\n",
    "_data = _data.merge(_data_pr, on='t', suffixes=('', '_pred'), how='left')\n",
    "_data['evt'] = _data['evt_pred'].replace({np.nan:0})\n",
    "\n",
    "\n",
    "\n",
    "#save\n",
    "etdata_pr = ETData()\n",
    "etdata_pr.load(_data[['t', 'x', 'y', 'status', 'evt']].values, **{'source':'np_array'})\n",
    "\n",
    "# # convert back to kartesian coordinates\n",
    "# X_test['x'] = X_test['x'] * px2deg + geom['display_width_pix']/2\n",
    "# X_test['y'] = X_test['y'] * px2deg + geom['display_height_pix']/2\n",
    "\n",
    "etdata_pr.plot(show=True, save=False)"
   ]
  },
  {
   "cell_type": "code",
   "execution_count": null,
   "metadata": {},
   "outputs": [],
   "source": [
    "# # %% plot\n",
    "# import matplotlib.pyplot as plt\n",
    "# import utils_lib.etdata as etdata\n",
    "\n",
    "# # plot raw data\n",
    "# plt.figure()\n",
    "# plt.plot(X_test['x'], X_test['y'], '.')\n",
    "\n",
    "# for e, c in ETData.evt_color_map.items():\n",
    "#     mask = X_test['evt'] == e\n",
    "#     plt.plot(X_test['x'][mask], X_test['y'][mask], '.', color=c)"
   ]
  }
 ],
 "metadata": {
  "kernelspec": {
   "display_name": "Python 3",
   "language": "python",
   "name": "python3"
  },
  "language_info": {
   "codemirror_mode": {
    "name": "ipython",
    "version": 3
   },
   "file_extension": ".py",
   "mimetype": "text/x-python",
   "name": "python",
   "nbconvert_exporter": "python",
   "pygments_lexer": "ipython3",
   "version": "3.10.12"
  }
 },
 "nbformat": 4,
 "nbformat_minor": 2
}
