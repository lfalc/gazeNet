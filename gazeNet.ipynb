{
 "cells": [
  {
   "cell_type": "markdown",
   "metadata": {},
   "source": [
    "# gazeNet "
   ]
  },
  {
   "cell_type": "markdown",
   "metadata": {},
   "source": [
    "## load pretrained model and configuration\n"
   ]
  },
  {
   "cell_type": "code",
   "execution_count": 40,
   "metadata": {},
   "outputs": [],
   "source": [
    "import os\n",
    "from utils_lib import utils\n",
    "\n",
    "dev = False\n",
    "model_dir = 'model_final'\n",
    "model_name = 'gazeNET_0004_00003750'\n",
    "\n",
    "logdir =  os.path.join('logdir', model_dir)\n",
    "fname_config = os.path.join(logdir, 'config.json')\n",
    "configuration = utils.Config(fname_config)\n",
    "config = configuration.params\n",
    "\n",
    "config['split_seqs']=False\n",
    "config['augment']=False\n",
    "config['batch_size']=1\n",
    "\n",
    "cuda = False\n",
    "model_name = '%s.pth.tar'%model_name"
   ]
  },
  {
   "cell_type": "markdown",
   "metadata": {},
   "source": [
    "## load model"
   ]
  },
  {
   "cell_type": "code",
   "execution_count": 41,
   "metadata": {},
   "outputs": [
    {
     "name": "stdout",
     "output_type": "stream",
     "text": [
      "logdir/model_final/models/gazeNET_0004_00003750.pth.tar\n",
      "Loading model: logdir/model_final/models/gazeNET_0004_00003750.pth.tar\n",
      "done.\n"
     ]
    },
    {
     "data": {
      "text/plain": [
       "gazeNET(\n",
       "  (conv_stack): Sequential(\n",
       "    (conv1): Sequential(\n",
       "      (0): Conv2d(1, 8, kernel_size=(2, 11), stride=(1, 1), padding=(1, 5), bias=False)\n",
       "      (1): BatchNorm2d(8, eps=1e-05, momentum=0.1, affine=True, track_running_stats=True)\n",
       "      (2): Hardtanh(min_val=0, max_val=20, inplace=True)\n",
       "      (3): Dropout(p=0.25, inplace=False)\n",
       "    )\n",
       "    (conv2): Sequential(\n",
       "      (0): Conv2d(8, 8, kernel_size=(2, 11), stride=(1, 1), padding=(1, 5), bias=False)\n",
       "      (1): BatchNorm2d(8, eps=1e-05, momentum=0.1, affine=True, track_running_stats=True)\n",
       "      (2): Hardtanh(min_val=0, max_val=20, inplace=True)\n",
       "      (3): Dropout(p=0.25, inplace=False)\n",
       "    )\n",
       "  )\n",
       "  (rnn_stack): Sequential(\n",
       "    (gru1): BatchRNN(\n",
       "      (rnn): GRU(32, 64, bias=False, batch_first=True, bidirectional=True)\n",
       "      (batch_norm_op): SequenceWise (\n",
       "      BatchNorm1d(64, eps=1e-05, momentum=0.1, affine=True, track_running_stats=True))\n",
       "      (dropout_op): Dropout(p=0.25, inplace=False)\n",
       "    )\n",
       "    (gru2): BatchRNN(\n",
       "      (rnn): GRU(64, 64, bias=False, batch_first=True, bidirectional=True)\n",
       "      (batch_norm_op): SequenceWise (\n",
       "      BatchNorm1d(64, eps=1e-05, momentum=0.1, affine=True, track_running_stats=True))\n",
       "      (dropout_op): Dropout(p=0.25, inplace=False)\n",
       "    )\n",
       "    (gru3): BatchRNN(\n",
       "      (rnn): GRU(64, 64, bias=False, batch_first=True, bidirectional=True)\n",
       "      (batch_norm_op): SequenceWise (\n",
       "      BatchNorm1d(64, eps=1e-05, momentum=0.1, affine=True, track_running_stats=True))\n",
       "      (dropout_op): Dropout(p=0.25, inplace=False)\n",
       "    )\n",
       "  )\n",
       "  (fc): Sequential(\n",
       "    (0): SequenceWise (\n",
       "    Linear(in_features=64, out_features=3, bias=False))\n",
       "  )\n",
       ")"
      ]
     },
     "execution_count": 41,
     "metadata": {},
     "output_type": "execute_result"
    }
   ],
   "source": [
    "from model import gazeNET as gazeNET\n",
    "import model as model_func\n",
    "num_classes = len(config['events'])\n",
    "model = gazeNET(config, num_classes)\n",
    "model_func.load(model, model_dir, config, model_name)\n",
    "model.eval()"
   ]
  },
  {
   "cell_type": "markdown",
   "metadata": {},
   "source": [
    "## Data upload"
   ]
  },
  {
   "cell_type": "code",
   "execution_count": 42,
   "metadata": {},
   "outputs": [
    {
     "data": {
      "application/vnd.jupyter.widget-view+json": {
       "model_id": "233825f2ff624985a8ab51cfcb68bbae",
       "version_major": 2,
       "version_minor": 0
      },
      "text/plain": [
       "FileUpload(value={}, accept='.tsv', description='Upload', multiple=True)"
      ]
     },
     "metadata": {},
     "output_type": "display_data"
    },
    {
     "name": "stdout",
     "output_type": "stream",
     "text": [
      "Upload complete!\n"
     ]
    }
   ],
   "source": [
    "import pandas as pd\n",
    "import numpy as np\n",
    "import ipywidgets as widgets\n",
    "\n",
    "uploader = widgets.FileUpload(\n",
    "    accept='.tsv',  # Accepted file extension e.g. '.txt', '.pdf', 'image/*', 'image/*,.pdf'\n",
    "    multiple=True  # True to accept multiple files upload else False\n",
    ")\n",
    "display(uploader)\n",
    "\n",
    "print('Upload complete!')\n",
    "# if uploader.data "
   ]
  },
  {
   "cell_type": "code",
   "execution_count": 43,
   "metadata": {},
   "outputs": [],
   "source": [
    "\n",
    "kwargs = {\n",
    "    'cuda': False,\n",
    "    'use_tqdm': False,\n",
    "    'eval': False,\n",
    "}\n",
    "root = 'etdata'\n",
    "dataset = 'tobii'\n",
    "fname = 'Kreuze_Random Recording1_short'\n",
    "format = 'tsv'\n",
    "\n",
    "fpath = '%s/%s/%s.%s'%(root, dataset, fname, format)\n",
    "num_workers = 0\n",
    "\n",
    "fdir, fname = os.path.split(os.path.splitext(fpath)[0])\n"
   ]
  },
  {
   "cell_type": "markdown",
   "metadata": {},
   "source": [
    "## Input trial setup\n",
    "\n",
    "Enter measurements for Your eye-tracking-setup.\n",
    "\n",
    "The default values for monitor width and height are for a 24\" 16:9 monitor."
   ]
  },
  {
   "cell_type": "code",
   "execution_count": 44,
   "metadata": {},
   "outputs": [
    {
     "data": {
      "application/vnd.jupyter.widget-view+json": {
       "model_id": "37b01f6aec7641b99d1827e2a870dad0",
       "version_major": 2,
       "version_minor": 0
      },
      "text/plain": [
       "BoundedFloatText(value=53.1, description='Monitor size in cm:', min=10.0, step=0.1)"
      ]
     },
     "metadata": {},
     "output_type": "display_data"
    },
    {
     "data": {
      "application/vnd.jupyter.widget-view+json": {
       "model_id": "18a595ab919c498084d10e098e1dcbc8",
       "version_major": 2,
       "version_minor": 0
      },
      "text/plain": [
       "BoundedFloatText(value=29.8, description='Monitor size in cm:', min=10.0, step=0.1)"
      ]
     },
     "metadata": {},
     "output_type": "display_data"
    },
    {
     "data": {
      "application/vnd.jupyter.widget-view+json": {
       "model_id": "22844a312782477c817f68e96cfe1261",
       "version_major": 2,
       "version_minor": 0
      },
      "text/plain": [
       "BoundedIntText(value=1920, description='Horizontal resolution:', max=3840, min=640, step=10)"
      ]
     },
     "metadata": {},
     "output_type": "display_data"
    },
    {
     "data": {
      "application/vnd.jupyter.widget-view+json": {
       "model_id": "02c9f519a0774c54a4bac8fff961d148",
       "version_major": 2,
       "version_minor": 0
      },
      "text/plain": [
       "BoundedIntText(value=1080, description='Vertical resolution:', max=2160, min=480, step=10)"
      ]
     },
     "metadata": {},
     "output_type": "display_data"
    }
   ],
   "source": [
    "width_mon = widgets.BoundedFloatText(\n",
    "    value=53.1,\n",
    "    min=10,\n",
    "    max=100,\n",
    "    step=0.1,\n",
    "    description='Monitor size in cm:',\n",
    "    disabled=False\n",
    ")\n",
    "display(width_mon)\n",
    "\n",
    "height_mon = widgets.BoundedFloatText(\n",
    "    value=29.8,\n",
    "    min=10,\n",
    "    max=100,\n",
    "    step=0.1,\n",
    "    description='Monitor size in cm:',\n",
    "    disabled=False\n",
    ")\n",
    "display(height_mon)\n",
    "\n",
    "res_hor = widgets.BoundedIntText(\n",
    "    value=1920,\n",
    "    min=640,\n",
    "    max=3840,\n",
    "    step=10,\n",
    "    description='Horizontal resolution:',\n",
    "    disabled=False\n",
    ")\n",
    "display(res_hor)\n",
    "\n",
    "res_vert = widgets.BoundedIntText(\n",
    "    value=1080,\n",
    "    min=480,\n",
    "    max=2160,\n",
    "    step=10,\n",
    "    description='Vertical resolution:',\n",
    "    disabled=False\n",
    ")\n",
    "display(res_vert)\n",
    "\n",
    "geom = {\n",
    "    'screen_width': height_mon.value,\n",
    "    'screen_height': width_mon.value,\n",
    "    'display_width_pix': res_hor.value,\n",
    "    'display_height_pix': res_vert.value,\n",
    "    'eye_distance': 60,\n",
    "}"
   ]
  },
  {
   "cell_type": "markdown",
   "metadata": {},
   "source": [
    "## load data"
   ]
  },
  {
   "cell_type": "code",
   "execution_count": 45,
   "metadata": {},
   "outputs": [],
   "source": [
    "from utils_lib.data_loader import EMDataset, GazeDataLoader\n",
    "from utils_lib.etdata import tsv_to_npy\n",
    "\n",
    "if format == 'tsv':\n",
    "   x, y, X_test = tsv_to_npy(fpath, geom)\n",
    "else:\n",
    "    X_test = np.load(fpath)\n",
    "\n",
    "_status = np.isnan(X_test['x']) | \\\n",
    "        np.isnan(X_test['y']) | \\\n",
    "        ~np.in1d(X_test['evt'], config['events'])\n",
    "X_test['status'] = ~_status\n",
    "test_dataset = EMDataset(config = config, gaze_data = [X_test])\n",
    "n_samples = len(test_dataset)\n",
    "test_loader = GazeDataLoader(test_dataset, batch_size=config['batch_size'],\n",
    "                            num_workers=num_workers,\n",
    "                            shuffle=False)"
   ]
  },
  {
   "cell_type": "markdown",
   "metadata": {},
   "source": [
    "## label data"
   ]
  },
  {
   "cell_type": "code",
   "execution_count": 46,
   "metadata": {},
   "outputs": [
    {
     "name": "stdout",
     "output_type": "stream",
     "text": [
      "Predicting Kreuze_Random Recording1_short\n"
     ]
    }
   ],
   "source": [
    "from utils_lib.ETeval import run_infer\n",
    "\n",
    "print (\"Predicting %s\" % fname)\n",
    "# _gt, _pr, pr_raw = run_infer(model, n_samples, test_loader, **kwargs)"
   ]
  },
  {
   "cell_type": "markdown",
   "metadata": {},
   "source": [
    "## postprocessing"
   ]
  },
  {
   "cell_type": "code",
   "execution_count": 47,
   "metadata": {},
   "outputs": [],
   "source": [
    "# from utils_lib.etdata import ETData\n",
    "# import copy\n",
    "\n",
    "\n",
    "# # revert to kartesian\n",
    "# if format == 'tsv':\n",
    "#     X_test['x'] = x\n",
    "#     X_test['y'] = y\n",
    "\n",
    "# #glue back the predictions\n",
    "# _data_pr = copy.deepcopy(test_dataset.data)\n",
    "# for _d, _pred in zip(_data_pr, pr_raw):\n",
    "#     _d['evt'] = 0\n",
    "#     _d['evt'][1:] = np.argmax(_pred, axis=1)+1\n",
    "# _data_pr = pd.concat([pd.DataFrame(_d) for _d in _data_pr]).reset_index(drop=True)\n",
    "# _data = pd.DataFrame(X_test)\n",
    "# _data = _data.merge(_data_pr, on='t', suffixes=('', '_pred'), how='left')\n",
    "# _data['evt'] = _data['evt_pred'].replace({np.nan:0})\n",
    "\n",
    "# etdata_pr = ETData()\n",
    "# etdata_pr.load(_data[['t', 'x', 'y', 'status', 'evt']].values, **{'source':'np_array'})\n",
    "\n",
    "# sdir = fdir.replace(dataset, '%s_gazeNet_copy'%dataset)\n",
    "# if not os.path.exists(sdir):\n",
    "#     os.mkdir(sdir)\n",
    "# spath = '%s/%s'%(sdir, fname)\n",
    "# etdata_pr.save(spath)\n",
    "# etdata_pr.plot_px(show=True, save=False, spath='%s'%spath)\n"
   ]
  },
  {
   "cell_type": "code",
   "execution_count": 48,
   "metadata": {},
   "outputs": [],
   "source": [
    "# etdata_pr.plot_xy(show=True, save=False, spath='%s'%spath)"
   ]
  },
  {
   "cell_type": "markdown",
   "metadata": {},
   "source": [
    "## Download files"
   ]
  },
  {
   "cell_type": "code",
   "execution_count": 49,
   "metadata": {},
   "outputs": [
    {
     "data": {
      "application/vnd.jupyter.widget-view+json": {
       "model_id": "54835c468555433e8201ae5c093fca1c",
       "version_major": 2,
       "version_minor": 0
      },
      "text/plain": [
       "Container(value=None, children=(FileDownloadWidget(children=[Btn(children=[Icon(children=['mdi-cloud-download-…"
      ]
     },
     "metadata": {},
     "output_type": "display_data"
    }
   ],
   "source": [
    "import solara\n",
    "\n",
    "f = open(fpath, \"rb\")\n",
    "solara.FileDownload(data=f, label=\"Download image\", filename=\"image.jpeg\")\n",
    "widgets.VBox([\n",
    "    solara.FileDownload.widget(data=f, label=\"Download image\", filename=fpath)\n",
    "])\n",
    "display(solara.FileDownload.widget(data=f, label=\"Download image\", filename=fpath))\n"
   ]
  }
 ],
 "metadata": {
  "kernelspec": {
   "display_name": "Python 3",
   "language": "python",
   "name": "python3"
  },
  "language_info": {
   "codemirror_mode": {
    "name": "ipython",
    "version": 3
   },
   "file_extension": ".py",
   "mimetype": "text/x-python",
   "name": "python",
   "nbconvert_exporter": "python",
   "pygments_lexer": "ipython3",
   "version": "3.11.3"
  }
 },
 "nbformat": 4,
 "nbformat_minor": 2
}
